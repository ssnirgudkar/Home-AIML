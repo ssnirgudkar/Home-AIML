{
  "nbformat": 4,
  "nbformat_minor": 0,
  "metadata": {
    "colab": {
      "name": " IR-autolabel-5classes-batch1.ipynb",
      "provenance": [],
      "collapsed_sections": [],
      "authorship_tag": "ABX9TyNWoh2ZxH+AVJrDgkMTHJq9",
      "include_colab_link": true
    },
    "kernelspec": {
      "name": "python3",
      "display_name": "Python 3"
    },
    "language_info": {
      "name": "python"
    },
    "accelerator": "GPU"
  },
  "cells": [
    {
      "cell_type": "markdown",
      "metadata": {
        "id": "view-in-github",
        "colab_type": "text"
      },
      "source": [
        "<a href=\"https://colab.research.google.com/github/ssnirgudkar/Home-AIML/blob/main/IR_autolabel_5classes_batch1.ipynb\" target=\"_parent\"><img src=\"https://colab.research.google.com/assets/colab-badge.svg\" alt=\"Open In Colab\"/></a>"
      ]
    },
    {
      "cell_type": "code",
      "metadata": {
        "id": "i5-y0oWlvgdH"
      },
      "source": [
        "pip install --upgrade segments-ai\n"
      ],
      "execution_count": null,
      "outputs": []
    },
    {
      "cell_type": "code",
      "metadata": {
        "id": "1e7NOkOfxDZW"
      },
      "source": [
        "from segments import SegmentsClient\n",
        "api_key = \"a89182567b17766b91773021b18d04574cd75109\"\n",
        "client = SegmentsClient(api_key)"
      ],
      "execution_count": null,
      "outputs": []
    },
    {
      "cell_type": "code",
      "metadata": {
        "id": "F_gzNefkxFty"
      },
      "source": [
        "dataset_identifier = \"ssnirgudkar/PilotIR\"\n"
      ],
      "execution_count": null,
      "outputs": []
    },
    {
      "cell_type": "code",
      "metadata": {
        "id": "bsMCMIDtyQtR"
      },
      "source": [
        "#commenting this for now, since this will just give all the data sets available in my login\n",
        "#dataset = client.get_dataset(dataset_identifier)\n",
        "#print(dataset)\n"
      ],
      "execution_count": null,
      "outputs": []
    },
    {
      "cell_type": "code",
      "metadata": {
        "id": "moYug8I_xWM7"
      },
      "source": [
        "from segments import SegmentsDataset\n",
        "from segments.utils import export_dataset\n",
        "\n",
        "# Initialize a SegmentsDataset from the release file. We will train using these 100 images (although they are 7 classes)\n",
        "release_file = client.get_release(dataset_identifier,'V2.0')\n",
        "#print(release_file)\n",
        "releasedataset = SegmentsDataset(release_file, labelset='segmentation', filter_by='labeled')\n"
      ],
      "execution_count": null,
      "outputs": []
    },
    {
      "cell_type": "code",
      "metadata": {
        "id": "UFYoMO_z3Aln"
      },
      "source": [
        "#install dependencies for detectron 2\n",
        "!pip install pyyaml==5.1\n",
        "import torch, torchvision\n",
        "print(torch.__version__,torch.cuda.is_available())\n",
        "!gcc --version\n",
        "\n"
      ],
      "execution_count": null,
      "outputs": []
    },
    {
      "cell_type": "code",
      "metadata": {
        "id": "SSjROww3Jmul"
      },
      "source": [
        "!pip install torch==1.8.1"
      ],
      "execution_count": null,
      "outputs": []
    },
    {
      "cell_type": "code",
      "metadata": {
        "id": "TBrRV1hC5RNB"
      },
      "source": [
        "#install detectron2 (Colab has CUDA 10.1 + torch 1.8)\n",
        "import torch \n",
        "assert torch.__version__.startswith(\"1.8\") #need to manually install 1.8 only if colab changes it's default version. as we see above, the default is 1.8 rt now\n",
        "!pip install detectron2 -f https://dl.fbaipublicfiles.com/detectron2/wheels/cu101/torch1.8/index.html\n",
        "# exit(0)  # After installation, you need to \"restart runtime\" in Colab. This line can also restart runtime\n",
        "\n"
      ],
      "execution_count": null,
      "outputs": []
    },
    {
      "cell_type": "code",
      "metadata": {
        "id": "Zi3g9Xfh6e6f",
        "colab": {
          "base_uri": "https://localhost:8080/"
        },
        "outputId": "ec6eb8c9-201e-4e9e-9d1d-4fc811bc13e8"
      },
      "source": [
        "#setup logger for detectron2 \n",
        "import detectron2 \n",
        "from detectron2.utils.logger import setup_logger \n",
        "setup_logger()"
      ],
      "execution_count": null,
      "outputs": [
        {
          "output_type": "execute_result",
          "data": {
            "text/plain": [
              "<Logger detectron2 (DEBUG)>"
            ]
          },
          "metadata": {
            "tags": []
          },
          "execution_count": 12
        }
      ]
    },
    {
      "cell_type": "code",
      "metadata": {
        "id": "eDvOAhHoxuus"
      },
      "source": [
        "\n",
        "#clone segments.ai repo for their utils code \n",
        "!git clone https://github.com/segments-ai/fast-labeling-workflow/\n",
        "%cd fast-labeling-workflow\n"
      ],
      "execution_count": null,
      "outputs": []
    },
    {
      "cell_type": "code",
      "metadata": {
        "id": "U_86CvUp9VT4"
      },
      "source": [
        "from segments import SegmentsDataset\n",
        "from segments.utils import export_dataset\n",
        "\n",
        "# Initialize a SegmentsDataset from the release file\n",
        "release_file = client.get_release(dataset_identifier,'V2.0')\n",
        "#print(release_file)\n",
        "releasedataset = SegmentsDataset(release_file, labelset='segmentation', filter_by='labeled')\n",
        "from utils import train_model\n",
        "model = train_model(releasedataset)"
      ],
      "execution_count": null,
      "outputs": []
    },
    {
      "cell_type": "code",
      "metadata": {
        "id": "SGLiTJuJI2Dr"
      },
      "source": [
        "#should save the model somewhere so it doesn't have to be recreated eachtime. this did not work\n",
        "#model.save('/content/drive/MyDrive/Models/detectronwithir')\n"
      ],
      "execution_count": null,
      "outputs": []
    },
    {
      "cell_type": "code",
      "metadata": {
        "id": "LT3bTuCyErKr"
      },
      "source": [
        "#dataset_identifier_infer = \"ssnirgudkar/IR-autolabel-5classes-batch1\"\n",
        "#dataset_infer = client.get_dataset(dataset_identifier_infer)\n",
        "\n",
        "dataset_identifier_trial = \"ssnirgudkar/trial\"\n",
        "dataset_infer_trial = client.get_dataset(dataset_identifier_trial)\n",
        "\n"
      ],
      "execution_count": null,
      "outputs": []
    },
    {
      "cell_type": "code",
      "metadata": {
        "id": "HHwnBangFVB0"
      },
      "source": [
        "#infer_release_file = client.get_release(dataset_identifier_infer,'V1.1')\n",
        "#infer_releasedataset = SegmentsDataset(infer_release_file, labelset='ground-truth', filter_by=['Unlabeled','Skipped','Prelabeled'])\n",
        "\n",
        "\n",
        "trial_release_file = client.get_release(dataset_identifier_trial,'V1.1')\n",
        "#trial_releasedataset = SegmentsDataset(trial_release_file, labelset='ground-truth', filter_by=['Unlabeled','Skipped','Prelabeled'])\n",
        "trial_releasedataset = SegmentsDataset(trial_release_file, labelset='ground-truth', filter_by=['Prelabeled'])"
      ],
      "execution_count": null,
      "outputs": []
    },
    {
      "cell_type": "code",
      "metadata": {
        "colab": {
          "base_uri": "https://localhost:8080/"
        },
        "id": "NDwfYGC2Gpc-",
        "outputId": "1741ab15-f352-45f7-c385-1a911832407e"
      },
      "source": [
        "from segments import SegmentsDataset\n",
        "from segments.utils import export_dataset\n",
        "from segments.utils import bitmap2file\n",
        "\n",
        "import cv2 \n",
        "import numpy as np \n",
        "import os \n",
        "from utils import visualize \n",
        "#this needs 3 channel image. so had to convert grayscale IR to RGB - 3 channels by copying the same pixel value on all 3\n",
        "#add logic to check if the image is 1 channel, and if so convert it to 3 channel\n",
        "#for sample in infer_releasedataset:\n",
        "for sample in trial_releasedataset:\n",
        "   infer_image = sample['image'] \n",
        "      \n",
        "   #imgcv = cv2.imread(infer_image)\n",
        "   #assert not isinstance(imgcv,type(None)), 'image not found'\n",
        "   #print (\"file read = {0}\".format(imgcv))\n",
        "   #print(os.getcwd())  # prints current working directory\n",
        "   #infer_image2 = RemoveAlphaChannel[infer_image, White]\n",
        "   #4channel CYMK image is not taken by detectron. it needs 3 channels. so converting to RGB. we can add a conditional check\n",
        "   # to first check if it's 4 channels and then convert only if it is\n",
        "   infer_image2 = infer_image.convert(\"RGB\")\n",
        "   segmentation_bitmap, annotations = model(infer_image2)\n",
        "   print(\"segmentation bitmap executed\")\n",
        "   #visualize the predictions \n",
        "   #visualize(infer_image2, segmentation_bitmap)\n",
        "   #print(annotations)\n",
        "\n",
        "# Upload the predictions to Segments.ai so that we can check the effectiveness of auto labels\n",
        "   file = bitmap2file(segmentation_bitmap)\n",
        "   asset = client.upload_asset(file, 'label.png')    \n",
        "   attributes = {\n",
        "        'format_version': '0.1',\n",
        "        'annotations': annotations,\n",
        "        'segmentation_bitmap': { 'url': asset['url'] },\n",
        "   }\n",
        "   client.add_label(sample['uuid'], 'ground-truth', attributes, label_status='PRELABELED')\n",
        "   \n",
        "  "
      ],
      "execution_count": null,
      "outputs": [
        {
          "output_type": "stream",
          "text": [
            "segmentation bitmap executed\n"
          ],
          "name": "stdout"
        }
      ]
    },
    {
      "cell_type": "code",
      "metadata": {
        "id": "xeFVH61bcTUB"
      },
      "source": [
        "# trying to print a picture from segments.io \n",
        "#client.get_samples(dataset_identifier_infer, per_page=1000, page=1)\n",
        "\n",
        "\n",
        "\n",
        "#sample = client.get_sample(uuid=\"35a2c87c-69d1-4403-b413-565f114c3bd3\")\n",
        "#print(sample)\n",
        "\n",
        "\n",
        "\n",
        "#infilename = \"https://segmentsai-prod.s3.eu-west-2.amazonaws.com/assets/ssnirgudkar/eed2b567-b42f-4576-bb14-fcc547f9a24c.png\" \n",
        "#img = cv2.imread(infilename, cv2.IMREAD_UNCHANGED)\n",
        "#          assert not isinstance(img,type(None)), 'image not found'\n",
        "#print (\"file read = {0}\".format(infilename))\n",
        "          \n",
        "#          img2 = img.copy()\n",
        "#print(img[162,:])\n",
        "#print(img)\n",
        "#print(img.dtype)\n",
        "#height,width = img.shape\n",
        "#print (img.shape)"
      ],
      "execution_count": null,
      "outputs": []
    },
    {
      "cell_type": "code",
      "metadata": {
        "id": "43VvGwHdSnh-"
      },
      "source": [
        "# trial for 1 image from the set of 100 since auto labeling is not working\n",
        "# adding sample image from amazon s3 to segments.ai dataset - snirgudkar / trial\n",
        "# gives access denied error\n",
        "from segments import SegmentsClient\n",
        "api_key = \"a89182567b17766b91773021b18d04574cd75109\"\n",
        "client = SegmentsClient(api_key)\n",
        "\n",
        "dataset_identifier_trial = \"ssnirgudkar/trial\" \n",
        "name = '3607501.png' \n",
        "attributes = { \n",
        "              \"image\":{\n",
        "                  #\"url\":\"https://s3-us-east-2.amazonaws.com/ml-label-class3/1602782781.360750.png\"\n",
        "                  \"url\": \"s3://ml-label-class3/1602782781.360750.png\"\n",
        "              }\n",
        "}\n",
        "\n",
        "client.add_sample(dataset_identifier_trial, name,attributes)"
      ],
      "execution_count": null,
      "outputs": []
    },
    {
      "cell_type": "code",
      "metadata": {
        "id": "T5vmGci6cQdm"
      },
      "source": [
        ""
      ],
      "execution_count": null,
      "outputs": []
    }
  ]
}