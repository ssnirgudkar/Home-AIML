{
  "nbformat": 4,
  "nbformat_minor": 0,
  "metadata": {
    "colab": {
      "name": "utility-DownloadSegmentedImagesipynb",
      "provenance": [],
      "collapsed_sections": [],
      "authorship_tag": "ABX9TyNxjpGCG71ROHH0whuzjlWT",
      "include_colab_link": true
    },
    "kernelspec": {
      "name": "python3",
      "display_name": "Python 3"
    },
    "language_info": {
      "name": "python"
    }
  },
  "cells": [
    {
      "cell_type": "markdown",
      "metadata": {
        "id": "view-in-github",
        "colab_type": "text"
      },
      "source": [
        "<a href=\"https://colab.research.google.com/github/ssnirgudkar/Home-AIML/blob/main/utility_DownloadSegmentedImagesipynb.ipynb\" target=\"_parent\"><img src=\"https://colab.research.google.com/assets/colab-badge.svg\" alt=\"Open In Colab\"/></a>"
      ]
    },
    {
      "cell_type": "markdown",
      "metadata": {
        "id": "DV_48h-i2qe-"
      },
      "source": [
        "This script is used to download the segmented images from segments.ai\n",
        "Once a release is created, all the mask files can be downloaded with this script\n",
        "The download also consists of original images.\n",
        "Please make sure that you install latest segments.ai because they keep changing API arguments\n",
        "From command shell (administrative) pip install segments-ai --upgrade\n",
        "The key given to SegmentsClient is a unique key generated for me.\n",
        "E.g. On mlpc, use python3 DownloadSegmentedImages.py"
      ]
    },
    {
      "cell_type": "code",
      "metadata": {
        "id": "3cZ2I3Yu4LZY"
      },
      "source": [
        "# Mount Shailesh's drive \n",
        "from google.colab import drive\n",
        "drive.mount('/content/drive')\n",
        "!cd \"/content/drive/MyDrive/PhD/Segments-ai-raw+masked-image\""
      ],
      "execution_count": null,
      "outputs": []
    },
    {
      "cell_type": "code",
      "metadata": {
        "id": "eFESC5c42ee3",
        "colab": {
          "base_uri": "https://localhost:8080/",
          "height": 565
        },
        "outputId": "95967554-5be4-4c35-8395-58d27263c370"
      },
      "source": [
        "!pip install segments-ai --upgrade\n",
        "from segments import SegmentsDataset\n",
        "from segments.utils import export_dataset\n",
        "from segments import SegmentsClient\n",
        "\n",
        "# Initialize a SegmentsDataset from the release file\n",
        "client = SegmentsClient('a89182567b17766b91773021b18d04574cd75109')\n",
        "dataset_identifier1 = \"ssnirgudkar/PilotIR\"\n",
        "release_file1 = client.get_release(dataset_identifier1,'V3.0')\n",
        "release_dataset1 = SegmentsDataset(release_file1,labelset='segmentation', filter_by=['labeled', 'reviewed'])\n",
        "\n",
        "#release_file = 'IR-2019-10-15-rex4usv-13-38-24.json'\n",
        "#dataset = SegmentsDataset(release_file, labelset='ground-truth', filter_by=['labeled'])\n",
        "\n",
        "# Export to COCO format\n",
        "export_dataset(release_dataset1, 'coco')\n",
        "\n",
        "\n",
        "'''\n",
        "# To visualize the masks, following code can be used.\n",
        "import matplotlib.pyplot as plt\n",
        "from segments.utils import get_semantic_bitmap\n",
        "\n",
        "for sample in release_dataset1:\n",
        "    # Print the sample name and list of labeled objects\n",
        "    print(sample['name'])\n",
        "    print(sample['annotations'])\n",
        "    \n",
        "    # Show the image\n",
        "    plt.imshow(sample['image'])\n",
        "    plt.show()\n",
        "    \n",
        "    # Show the instance segmentation label\n",
        "    plt.imshow(sample['segmentation_bitmap'])\n",
        "    plt.show()\n",
        "    \n",
        "    # Show the semantic segmentation label\n",
        "    semantic_bitmap = get_semantic_bitmap(sample['segmentation_bitmap'], sample['annotations'])\n",
        "    plt.imshow(semantic_bitmap)\n",
        "    plt.show()\n",
        "'''    "
      ],
      "execution_count": null,
      "outputs": [
        {
          "output_type": "stream",
          "text": [
            "Requirement already up-to-date: segments-ai in /usr/local/lib/python3.7/dist-packages (0.42)\n",
            "Requirement already satisfied, skipping upgrade: pycocotools in /usr/local/lib/python3.7/dist-packages (from segments-ai) (2.0.2)\n",
            "Requirement already satisfied, skipping upgrade: Pillow in /usr/local/lib/python3.7/dist-packages (from segments-ai) (7.1.2)\n",
            "Requirement already satisfied, skipping upgrade: numpy in /usr/local/lib/python3.7/dist-packages (from segments-ai) (1.19.5)\n",
            "Requirement already satisfied, skipping upgrade: tqdm in /usr/local/lib/python3.7/dist-packages (from segments-ai) (4.41.1)\n",
            "Requirement already satisfied, skipping upgrade: requests in /usr/local/lib/python3.7/dist-packages (from segments-ai) (2.23.0)\n",
            "Requirement already satisfied, skipping upgrade: cython>=0.27.3 in /usr/local/lib/python3.7/dist-packages (from pycocotools->segments-ai) (0.29.23)\n",
            "Requirement already satisfied, skipping upgrade: setuptools>=18.0 in /usr/local/lib/python3.7/dist-packages (from pycocotools->segments-ai) (57.0.0)\n",
            "Requirement already satisfied, skipping upgrade: matplotlib>=2.1.0 in /usr/local/lib/python3.7/dist-packages (from pycocotools->segments-ai) (3.2.2)\n",
            "Requirement already satisfied, skipping upgrade: certifi>=2017.4.17 in /usr/local/lib/python3.7/dist-packages (from requests->segments-ai) (2021.5.30)\n",
            "Requirement already satisfied, skipping upgrade: urllib3!=1.25.0,!=1.25.1,<1.26,>=1.21.1 in /usr/local/lib/python3.7/dist-packages (from requests->segments-ai) (1.24.3)\n",
            "Requirement already satisfied, skipping upgrade: chardet<4,>=3.0.2 in /usr/local/lib/python3.7/dist-packages (from requests->segments-ai) (3.0.4)\n",
            "Requirement already satisfied, skipping upgrade: idna<3,>=2.5 in /usr/local/lib/python3.7/dist-packages (from requests->segments-ai) (2.10)\n",
            "Requirement already satisfied, skipping upgrade: pyparsing!=2.0.4,!=2.1.2,!=2.1.6,>=2.0.1 in /usr/local/lib/python3.7/dist-packages (from matplotlib>=2.1.0->pycocotools->segments-ai) (2.4.7)\n",
            "Requirement already satisfied, skipping upgrade: cycler>=0.10 in /usr/local/lib/python3.7/dist-packages (from matplotlib>=2.1.0->pycocotools->segments-ai) (0.10.0)\n",
            "Requirement already satisfied, skipping upgrade: python-dateutil>=2.1 in /usr/local/lib/python3.7/dist-packages (from matplotlib>=2.1.0->pycocotools->segments-ai) (2.8.1)\n",
            "Requirement already satisfied, skipping upgrade: kiwisolver>=1.0.1 in /usr/local/lib/python3.7/dist-packages (from matplotlib>=2.1.0->pycocotools->segments-ai) (1.3.1)\n",
            "Requirement already satisfied, skipping upgrade: six in /usr/local/lib/python3.7/dist-packages (from cycler>=0.10->matplotlib>=2.1.0->pycocotools->segments-ai) (1.15.0)\n",
            "Initialized successfully.\n"
          ],
          "name": "stdout"
        },
        {
          "output_type": "stream",
          "text": [
            "\r  0%|          | 0/103 [00:00<?, ?it/s]"
          ],
          "name": "stderr"
        },
        {
          "output_type": "stream",
          "text": [
            "Initializing dataset...\n",
            "Preloading all samples. This may take a while...\n"
          ],
          "name": "stdout"
        },
        {
          "output_type": "stream",
          "text": [
            "100%|██████████| 103/103 [00:07<00:00, 14.32it/s]\n",
            "  2%|▏         | 2/103 [00:00<00:07, 14.30it/s]"
          ],
          "name": "stderr"
        },
        {
          "output_type": "stream",
          "text": [
            "Initialized dataset with 103 images.\n",
            "Exporting dataset. This may take a while...\n"
          ],
          "name": "stdout"
        },
        {
          "output_type": "stream",
          "text": [
            "100%|██████████| 103/103 [00:06<00:00, 15.27it/s]\n"
          ],
          "name": "stderr"
        },
        {
          "output_type": "stream",
          "text": [
            "Exported to coco/export_ssnirgudkar_PilotIR_V3.0.json. Images and labels in segments/ssnirgudkar_PilotIR/V3.0\n"
          ],
          "name": "stdout"
        },
        {
          "output_type": "execute_result",
          "data": {
            "application/vnd.google.colaboratory.intrinsic+json": {
              "type": "string"
            },
            "text/plain": [
              "\"\\n# To visualize the masks, following code can be used.\\nimport matplotlib.pyplot as plt\\nfrom segments.utils import get_semantic_bitmap\\n\\nfor sample in release_dataset1:\\n    # Print the sample name and list of labeled objects\\n    print(sample['name'])\\n    print(sample['annotations'])\\n    \\n    # Show the image\\n    plt.imshow(sample['image'])\\n    plt.show()\\n    \\n    # Show the instance segmentation label\\n    plt.imshow(sample['segmentation_bitmap'])\\n    plt.show()\\n    \\n    # Show the semantic segmentation label\\n    semantic_bitmap = get_semantic_bitmap(sample['segmentation_bitmap'], sample['annotations'])\\n    plt.imshow(semantic_bitmap)\\n    plt.show()\\n\""
            ]
          },
          "metadata": {
            "tags": []
          },
          "execution_count": 12
        }
      ]
    },
    {
      "cell_type": "code",
      "metadata": {
        "id": "vwPZC-7x6p4w"
      },
      "source": [
        "#Now copy the files to shailesh's google drive \n",
        "!cp -r /content/coco  /content/drive/MyDrive/PhD/Segments-ai-raw+masked-image/PilotIR\n",
        "!cp -r /content/segments/ssnirgudkar_PilotIR /content/drive/MyDrive/PhD/Segments-ai-raw+masked-image/PilotIR\n"
      ],
      "execution_count": null,
      "outputs": []
    }
  ]
}