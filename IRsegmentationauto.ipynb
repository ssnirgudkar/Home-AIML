{
  "nbformat": 4,
  "nbformat_minor": 0,
  "metadata": {
    "colab": {
      "name": "IRsegmentationauto.ipynb",
      "provenance": [],
      "collapsed_sections": [],
      "mount_file_id": "1RHzIlSvPEfJYhudeqt_p1y-p2ZyzDOaE",
      "authorship_tag": "ABX9TyMFYbbjMWj1g55gYctzgX3z",
      "include_colab_link": true
    },
    "kernelspec": {
      "name": "python3",
      "display_name": "Python 3"
    },
    "language_info": {
      "name": "python"
    },
    "accelerator": "GPU"
  },
  "cells": [
    {
      "cell_type": "markdown",
      "metadata": {
        "id": "view-in-github",
        "colab_type": "text"
      },
      "source": [
        "<a href=\"https://colab.research.google.com/github/ssnirgudkar/Home-AIML/blob/main/IRsegmentationauto.ipynb\" target=\"_parent\"><img src=\"https://colab.research.google.com/assets/colab-badge.svg\" alt=\"Open In Colab\"/></a>"
      ]
    },
    {
      "cell_type": "code",
      "metadata": {
        "id": "i5-y0oWlvgdH"
      },
      "source": [
        "pip install --upgrade segments-ai\n"
      ],
      "execution_count": null,
      "outputs": []
    },
    {
      "cell_type": "code",
      "metadata": {
        "id": "1e7NOkOfxDZW"
      },
      "source": [
        "from segments import SegmentsClient\n",
        "api_key = \"a89182567b17766b91773021b18d04574cd75109\"\n",
        "client = SegmentsClient(api_key)"
      ],
      "execution_count": null,
      "outputs": []
    },
    {
      "cell_type": "code",
      "metadata": {
        "id": "F_gzNefkxFty"
      },
      "source": [
        "dataset_identifier = \"ssnirgudkar/PilotIR\"\n"
      ],
      "execution_count": 46,
      "outputs": []
    },
    {
      "cell_type": "code",
      "metadata": {
        "id": "bsMCMIDtyQtR"
      },
      "source": [
        "#commenting this for now, since this will just give all the data sets available in my login\n",
        "#dataset = client.get_dataset(dataset_identifier)\n",
        "#print(dataset)\n"
      ],
      "execution_count": null,
      "outputs": []
    },
    {
      "cell_type": "code",
      "metadata": {
        "id": "moYug8I_xWM7"
      },
      "source": [
        "from segments import SegmentsDataset\n",
        "from segments.utils import export_dataset\n",
        "\n",
        "# Initialize a SegmentsDataset from the release file\n",
        "release_file = client.get_release(dataset_identifier,'V2.0')\n",
        "#print(release_file)\n",
        "releasedataset = SegmentsDataset(release_file, labelset='segmentation', filter_by='labeled')\n"
      ],
      "execution_count": null,
      "outputs": []
    },
    {
      "cell_type": "code",
      "metadata": {
        "id": "UFYoMO_z3Aln"
      },
      "source": [
        "#install dependencies for detectron 2\n",
        "!pip install pyyaml==5.1\n",
        "import torch, torchvision\n",
        "print(torch.__version__,torch.cuda.is_available())\n",
        "!gcc --version\n",
        "\n"
      ],
      "execution_count": null,
      "outputs": []
    },
    {
      "cell_type": "code",
      "metadata": {
        "id": "TBrRV1hC5RNB"
      },
      "source": [
        "#install detectron2 (Colab has CUDA 10.1 + torch 1.8)\n",
        "import torch \n",
        "assert torch.__version__.startswith(\"1.8\") #need to manually install 1.8 only if colab changes it's default version. as we see above, the default is 1.8 rt now\n",
        "!pip install detectron2 -f https://dl.fbaipublicfiles.com/detectron2/wheels/cu101/torch1.8/index.html\n",
        "# exit(0)  # After installation, you need to \"restart runtime\" in Colab. This line can also restart runtime\n",
        "\n"
      ],
      "execution_count": null,
      "outputs": []
    },
    {
      "cell_type": "code",
      "metadata": {
        "id": "Zi3g9Xfh6e6f"
      },
      "source": [
        "#setup logger for detectron2 \n",
        "import detectron2 \n",
        "from detectron2.utils.logger import setup_logger \n",
        "setup_logger()"
      ],
      "execution_count": null,
      "outputs": []
    },
    {
      "cell_type": "code",
      "metadata": {
        "id": "eDvOAhHoxuus"
      },
      "source": [
        "\n",
        "#clone segments.ai repo for their utils code \n",
        "!git clone https://github.com/segments-ai/fast-labeling-workflow/segments\n",
        "#%cd fast-labeling-workflow"
      ],
      "execution_count": null,
      "outputs": []
    },
    {
      "cell_type": "code",
      "metadata": {
        "id": "U_86CvUp9VT4"
      },
      "source": [
        "from segments import SegmentsDataset\n",
        "from segments.utils import export_dataset\n",
        "\n",
        "# Initialize a SegmentsDataset from the release file\n",
        "release_file = client.get_release(dataset_identifier,'V2.0')\n",
        "#print(release_file)\n",
        "releasedataset = SegmentsDataset(release_file, labelset='segmentation', filter_by='labeled')\n",
        "%cd fast-labeling-workflow\n",
        "from utils import train_model\n",
        "model = train_model(releasedataset)"
      ],
      "execution_count": null,
      "outputs": []
    },
    {
      "cell_type": "code",
      "metadata": {
        "id": "SGLiTJuJI2Dr"
      },
      "source": [
        "#should save the model somewhere so it doesn't have to be recreated eachtime. this did not work\n",
        "model.save('/content/drive/MyDrive/Models/detectronwithir')\n"
      ],
      "execution_count": null,
      "outputs": []
    },
    {
      "cell_type": "code",
      "metadata": {
        "id": "LT3bTuCyErKr"
      },
      "source": [
        "dataset_identifier_infer = \"ssnirgudkar/IRGray-100-set2-3classes\"\n",
        "dataset_infer = client.get_dataset(dataset_identifier_infer)\n"
      ],
      "execution_count": 53,
      "outputs": []
    },
    {
      "cell_type": "code",
      "metadata": {
        "id": "HHwnBangFVB0"
      },
      "source": [
        "infer_release_file = client.get_release(dataset_identifier_infer,'Fortestingraw1')\n",
        "infer_releasedataset = SegmentsDataset(infer_release_file, labelset='ground-truth', filter_by='unlabeled')"
      ],
      "execution_count": null,
      "outputs": []
    },
    {
      "cell_type": "code",
      "metadata": {
        "colab": {
          "base_uri": "https://localhost:8080/",
          "height": 130
        },
        "id": "NDwfYGC2Gpc-",
        "outputId": "c33224ae-c9d7-48ee-9e07-11b4de891dac"
      },
      "source": [
        "from segments import SegmentsDataset\n",
        "from segments.utils import export_dataset\n",
        "from segments.utils import bitmap2file\n",
        "from segments.utils import visualize\n",
        "import cv2 \n",
        "import numpy as np \n",
        "#this needs 3 channel image. so had to convert grayscale IR to RGB - 3 channels by copying the same pixel value on all 3\n",
        "for sample in infer_releasedataset:\n",
        "   infer_image = sample['image'] \n",
        "   \n",
        "   \n",
        "   #imgcv = cv2.imread(infer_image)\n",
        "   #assert not isinstance(imgcv,type(None)), 'image not found'\n",
        "   #print (\"file read = {0}\".format(imgcv))\n",
        "   segmentation_bitmap, annotations = model(infer_image)\n",
        "\n",
        "#visualize the predictions \n",
        "   \n",
        "   visualize(infer_image,segmentation_bitmap)\n",
        "   print(annotations)"
      ],
      "execution_count": 59,
      "outputs": [
        {
          "output_type": "error",
          "ename": "SyntaxError",
          "evalue": "ignored",
          "traceback": [
            "\u001b[0;36m  File \u001b[0;32m\"<ipython-input-59-4fef74d73f95>\"\u001b[0;36m, line \u001b[0;32m4\u001b[0m\n\u001b[0;31m    from fast-labeling-workflow.segments.utils import visualize\u001b[0m\n\u001b[0m             ^\u001b[0m\n\u001b[0;31mSyntaxError\u001b[0m\u001b[0;31m:\u001b[0m invalid syntax\n"
          ]
        }
      ]
    },
    {
      "cell_type": "code",
      "metadata": {
        "id": "vbfszMkT7QUa"
      },
      "source": [
        "import cv2 \n",
        "image1 = '/content/drive/MyDrive/Models/MVI_1463_NIR_RF_1_Ins.png' #singapore ir png\n",
        "image2 = '/content/drive/MyDrive/Models/1603391862.128166_color.png' #personal 2nd set ir color 3 channels png\n",
        "image3 = '/content/drive/MyDrive/Models/MVI_0797_VIS_OB.png' #singapore rgb\n",
        "image4 = '/content/drive/MyDrive/Models/1602782428.150594.png' #personal 1st set \n",
        "\n",
        "img1 = cv2.imread(image2,cv2.IMREAD_UNCHANGED)\n",
        "assert not isinstance(img1,type(None)), 'image not found'\n",
        "#print (\"file read = {0}\".format(img1))\n",
        "print (img1.shape)\n",
        "print(img1[1,:])\n",
        "#height,width, channel = img1.shape\n"
      ],
      "execution_count": null,
      "outputs": []
    }
  ]
}