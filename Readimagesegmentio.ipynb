{
  "nbformat": 4,
  "nbformat_minor": 0,
  "metadata": {
    "colab": {
      "name": "Readimagesegmentio.ipynb",
      "provenance": [],
      "collapsed_sections": [],
      "authorship_tag": "ABX9TyNZnBuGcdbYRGgZxDYeQcy0",
      "include_colab_link": true
    },
    "kernelspec": {
      "name": "python3",
      "display_name": "Python 3"
    },
    "language_info": {
      "name": "python"
    }
  },
  "cells": [
    {
      "cell_type": "markdown",
      "metadata": {
        "id": "view-in-github",
        "colab_type": "text"
      },
      "source": [
        "<a href=\"https://colab.research.google.com/github/ssnirgudkar/Home-AIML/blob/main/Readimagesegmentio.ipynb\" target=\"_parent\"><img src=\"https://colab.research.google.com/assets/colab-badge.svg\" alt=\"Open In Colab\"/></a>"
      ]
    },
    {
      "cell_type": "code",
      "metadata": {
        "id": "bFf9HllL0NNB"
      },
      "source": [
        "pip install --upgrade segments-ai"
      ],
      "execution_count": null,
      "outputs": []
    },
    {
      "cell_type": "code",
      "metadata": {
        "id": "n3RWrcnT0nDi"
      },
      "source": [
        "from segments import SegmentsClient\n",
        "api_key = \"a89182567b17766b91773021b18d04574cd75109\"\n",
        "client = SegmentsClient(api_key)"
      ],
      "execution_count": null,
      "outputs": []
    },
    {
      "cell_type": "code",
      "metadata": {
        "colab": {
          "base_uri": "https://localhost:8080/"
        },
        "id": "GkpyCC2C0ph0",
        "outputId": "058d64f9-dd54-425a-bf03-0b00cb93d10b"
      },
      "source": [
        "# gives all datasets that are on segment io for this user\n",
        "user = \"ssnirgudkar\"\n",
        "datasets = client.get_datasets(user)\n",
        "for dataset in datasets:\n",
        "    print(dataset[\"name\"],dataset[\"description\"])"
      ],
      "execution_count": 3,
      "outputs": [
        {
          "output_type": "stream",
          "text": [
            "playground This dataset contains some images for trying out the Segments.ai labeling tool.\n",
            "Test \n",
            "PilotIR Data set of 103 IR images for segmentation purpose\n",
            "ReferenceColorImagesForIRImages \n",
            "IRGray-100-set2-3classes IR images, Gray scale, batch of 100, 3 classes only\n",
            "tomatoes test on tomatoes\n"
          ],
          "name": "stdout"
        }
      ]
    },
    {
      "cell_type": "code",
      "metadata": {
        "id": "13eHPLD41pUe"
      },
      "source": [
        "dataset_identifier = \"ssnirgudkar/IRGray-100-set2-3classes\"\n",
        "dataset = client.get_dataset(dataset_identifier)"
      ],
      "execution_count": 5,
      "outputs": []
    },
    {
      "cell_type": "code",
      "metadata": {
        "colab": {
          "base_uri": "https://localhost:8080/"
        },
        "id": "pa5s_l4b4zY9",
        "outputId": "191e83ee-dcfa-4895-abe4-94c24e76c8ce"
      },
      "source": [
        "from segments import SegmentsDataset\n",
        "from segments.utils import export_dataset\n",
        "\n",
        "# Initialize a SegmentsDataset from the release file\n",
        "release_file = client.get_release(dataset_identifier,'Model_Labeled_Images')\n",
        "#print(release_file)\n",
        "releasedataset = SegmentsDataset(release_file, labelset='ground-truth', filter_by='labeled')"
      ],
      "execution_count": 9,
      "outputs": [
        {
          "output_type": "stream",
          "text": [
            "\r  0%|          | 0/4 [00:00<?, ?it/s]"
          ],
          "name": "stderr"
        },
        {
          "output_type": "stream",
          "text": [
            "Initializing dataset. This may take a few seconds...\n"
          ],
          "name": "stdout"
        },
        {
          "output_type": "stream",
          "text": [
            "100%|██████████| 4/4 [00:00<00:00,  7.83it/s]"
          ],
          "name": "stderr"
        },
        {
          "output_type": "stream",
          "text": [
            "Initialized dataset with 4 images.\n"
          ],
          "name": "stdout"
        },
        {
          "output_type": "stream",
          "text": [
            "\n"
          ],
          "name": "stderr"
        }
      ]
    },
    {
      "cell_type": "code",
      "metadata": {
        "colab": {
          "base_uri": "https://localhost:8080/"
        },
        "id": "w97A6dk_2MdN",
        "outputId": "efbceda7-25e3-4ed5-e5d2-6a995e70ec22"
      },
      "source": [
        "# prints the image name and the labels present on the image \n",
        "import matplotlib.pyplot as plt \n",
        "from segments.utils import get_semantic_bitmap\n",
        "for sample in releasedataset:\n",
        "  print(sample['name'])\n",
        "  print (sample['annotations'])"
      ],
      "execution_count": 10,
      "outputs": [
        {
          "output_type": "stream",
          "text": [
            "1603391862.128166_color.png\n",
            "[{'id': 1, 'category_id': 2}, {'id': 2, 'category_id': 0}, {'id': 3, 'category_id': 0}, {'id': 4, 'category_id': 0}, {'id': 5, 'category_id': 1}, {'id': 6, 'category_id': 2}]\n",
            "tomato_PNG12549.png\n",
            "[{'id': 1, 'category_id': 0}, {'id': 2, 'category_id': 0}, {'id': 3, 'category_id': 0}]\n",
            "1603391920.193870_color.png\n",
            "[{'id': 1, 'category_id': 0}, {'id': 2, 'category_id': 0}, {'id': 3, 'category_id': 1}, {'id': 4, 'category_id': 1}, {'id': 5, 'category_id': 0}, {'id': 6, 'category_id': 2}, {'id': 7, 'category_id': 0}]\n",
            "1603391973.126007_color.png\n",
            "[{'id': 1, 'category_id': 0}, {'id': 2, 'category_id': 0}, {'id': 3, 'category_id': 1}, {'id': 4, 'category_id': 2}, {'id': 5, 'category_id': 0}, {'id': 6, 'category_id': 0}, {'id': 7, 'category_id': 0}, {'id': 8, 'category_id': 0}, {'id': 9, 'category_id': 0}, {'id': 10, 'category_id': 0}]\n"
          ],
          "name": "stdout"
        }
      ]
    },
    {
      "cell_type": "code",
      "metadata": {
        "id": "zozXtzD64WW6"
      },
      "source": [
        ""
      ],
      "execution_count": null,
      "outputs": []
    },
    {
      "cell_type": "code",
      "metadata": {
        "id": "tJPlK0jp2zC2"
      },
      "source": [
        "# this is to print the pixel values of the labeled images for checking if the category ids are adhered to\n",
        "import cv2 \n",
        " import numpy as np\n",
        " import os \n",
        " \n",
        " for filesindir in os.listdir(\"/content/segments/ssnirgudkar_PilotIR/V2.0/\"):\n",
        "   if filesindir.endswith(\"_label_segmentation.png\"):\n",
        "      \n",
        "      filetext = filesindir.rstrip('_label_segmentation.png')\n",
        "      filename = filetext+'.png'\n",
        "      #print(filename)\n",
        "      #filename = '1602782427.667751.png'\n",
        "      for sample in releasedataset:\n",
        "        if sample['name'] == filename:\n",
        "          #print('in the loop')\n",
        "          #print(sample['name'])\n",
        "          #get filename for reading inout file and writing outputfile. remove .png from the filename \n",
        "          str = sample['name'].rstrip('.png')\n",
        "          ##print(str) \n",
        "          labeledfile = str+'_label_segmentation.png'\n",
        "          \n",
        "     #t1=sample['name']\n",
        "     #print(type(sample))  -- this is a dictionary \n",
        "     #print(type(t1)) -- this is a string \n",
        "     #print(t1[1])  -- this prints the 2nd digit in the image name \n",
        "     #print(sample['annotations'])  - this prints the values under annotations key for that image \n",
        "     #print(type(sample['annotations'])) -- this is a list \n",
        "     #print(l1[0])  -- this prints all the attributes for the 1st key \n",
        "     #print(type(l1[0])) -- this is dictionary \n",
        "     #print(l1[1]['id'],l1[1]['category_id']) - prints the id and category id for the 2nd key \n",
        "     #open the image, read each pixel, for all pixels in the image, run a for loop \n",
        "     #over and over on this 1 annotation to convert the pixel value \n",
        "          l1=sample['annotations']\n",
        "          #print(l1)\n",
        "     #print (l1[1]['id'], l1[1]['category_id'])\n",
        "          \n",
        "     #finding max of instance ids for an image \n",
        "          #print(len(l1)) \n",
        "          #id\n",
        "          maxinstanceidinimage = len(l1)\n",
        "          infilename = \"/content/segments/ssnirgudkar_PilotIR/V2.0/\"+labeledfile\n",
        "          img = cv2.imread(infilename, cv2.IMREAD_UNCHANGED)\n",
        "          assert not isinstance(img,type(None)), 'image not found'\n",
        "          print (\"file read = {0}\".format(infilename))\n",
        "          \n",
        "          img2 = img.copy()\n",
        "          #print(img[162,:])\n",
        "          #print(img)\n",
        "     #print(img.dtype)\n",
        "          height,width = img.shape\n",
        "     #print (img.shape)\n",
        "     \n",
        "          for i in range(height):\n",
        "            for j in range(width):\n",
        "              if img.item(i,j) == 0:\n",
        "                img2.itemset((i,j), 0)\n",
        "     \n",
        "              else:\n",
        "                  for m in range (0,maxinstanceidinimage,1):\n",
        "                    #print (l1[m]['id'])\n",
        "                    #if pixel value is found in category, replace with category \n",
        "                    if img.item(i,j) == l1[m]['id']:\n",
        "                       img2.itemset((i,j), l1[m]['category_id']) \n",
        "                       #now collapse 6 categories into 3 - 7 - ob, 8 - sky, 9 - water\n",
        "\n",
        "                       if img2.item(i,j) == 0:\n",
        "                          img2.itemset((i,j), 7)  #object -> object \n",
        "                       if img2.item(i,j) == 1:\n",
        "                          img2.itemset((i,j), 8)  #sky -> sky \n",
        "                       if img2.item(i,j) == 2:\n",
        "                          img2.itemset((i,j), 9)  #water -> water\n",
        "                       if img2.item(i,j) == 3:\n",
        "                          img2.itemset((i,j), 7)  #warm entity -> object\n",
        "                       if img2.item(i,j) == 4:\n",
        "                          img2.itemset((i,j), 7)  #backgnd -> object\n",
        "                       if img2.item(i,j) == 5:\n",
        "                          img2.itemset((i,j), 7)  #cold entity -> object\n",
        "                       if img2.item(i,j) == 6:\n",
        "                          img2.itemset((i,j), 8)  #sun -> sky\n",
        "                          \n",
        "              \n",
        "                         \n",
        "                          \n",
        "          #img.itemset((i,j), arr1[img.item(i,j)-1])  \n",
        "          #print('out of the translation loop')   \n",
        "       \n",
        "          outputfilename = '/content/drive/MyDrive/image-masked-output/'+str+'_relabeled.png'\n",
        "          cv2.imwrite(outputfilename, img2)  \n",
        "          print (\"file written = {0}\".format(outputfilename))\n",
        "          #print(img[5,:])\n",
        "          #print(img2[162,:])\n",
        "          #print(img)\n",
        "          #print('new file written')"
      ],
      "execution_count": null,
      "outputs": []
    }
  ]
}