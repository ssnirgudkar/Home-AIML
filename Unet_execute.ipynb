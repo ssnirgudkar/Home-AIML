{
  "nbformat": 4,
  "nbformat_minor": 0,
  "metadata": {
    "colab": {
      "name": "Unet-execute.ipynb",
      "provenance": [],
      "collapsed_sections": [],
      "mount_file_id": "1cnGDjE6tOokXBc5iEqxq5Xvlnx4_cGDb",
      "authorship_tag": "ABX9TyMv0ZBi8hS18zw6+NZCfFT0",
      "include_colab_link": true
    },
    "kernelspec": {
      "name": "python3",
      "display_name": "Python 3"
    },
    "language_info": {
      "name": "python"
    },
    "accelerator": "GPU"
  },
  "cells": [
    {
      "cell_type": "markdown",
      "metadata": {
        "id": "view-in-github",
        "colab_type": "text"
      },
      "source": [
        "<a href=\"https://colab.research.google.com/github/ssnirgudkar/Home-AIML/blob/main/Unet_execute.ipynb\" target=\"_parent\"><img src=\"https://colab.research.google.com/assets/colab-badge.svg\" alt=\"Open In Colab\"/></a>"
      ]
    },
    {
      "cell_type": "code",
      "metadata": {
        "id": "k0TiD1FVnQgr"
      },
      "source": [
        "from google.colab import drive\n",
        "drive.mount('/content/drive')\n",
        "!cd \"drive/My Drive/PhD/IRLabeledDataset\"\n"
      ],
      "execution_count": null,
      "outputs": []
    },
    {
      "cell_type": "code",
      "metadata": {
        "id": "eTjkWZoLN_ik"
      },
      "source": [
        "!git clone https://github.com/ssnirgudkar/UNet.git\n",
        "\n"
      ],
      "execution_count": null,
      "outputs": []
    },
    {
      "cell_type": "code",
      "metadata": {
        "id": "64o6fNuUOdKD"
      },
      "source": [
        "%cd /content/UNet\n",
        "!ls"
      ],
      "execution_count": null,
      "outputs": []
    },
    {
      "cell_type": "code",
      "metadata": {
        "id": "b4JkP1BNPkIF"
      },
      "source": [
        "!python main.py"
      ],
      "execution_count": null,
      "outputs": []
    },
    {
      "cell_type": "markdown",
      "metadata": {
        "id": "_hz1C7zOn5gd"
      },
      "source": [
        "# New Section"
      ]
    },
    {
      "cell_type": "code",
      "metadata": {
        "id": "jyF49dYQ38cK"
      },
      "source": [
        "#inputDir = \"/content/drive/MyDrive/PhD/IRLabeledDataset/ir_train_images_4_resized\" # directory containing input images\n",
        "#segmentationImageDir = \"/content/drive/MyDrive/PhD/IRLabeledDataset/ir_train_masks_4_resized\" # directory containing output segmentation images\n"
      ],
      "execution_count": null,
      "outputs": []
    }
  ]
}